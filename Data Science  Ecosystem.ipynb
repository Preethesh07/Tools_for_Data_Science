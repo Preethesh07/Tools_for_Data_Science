{
 "cells": [
  {
   "cell_type": "markdown",
   "id": "ac8afb7d-f6ef-4a2d-8571-a6f7aea09a63",
   "metadata": {},
   "source": [
    "# Data Science Tools and Ecosysten"
   ]
  },
  {
   "cell_type": "markdown",
   "id": "dfc28b1b-bc3d-4de7-a5e2-90420aa4459a",
   "metadata": {},
   "source": [
    "In this notebook,Data Science Tools and Ecosystemare summarized"
   ]
  },
  {
   "cell_type": "markdown",
   "id": "8172ee76-0c46-4d3e-b84f-6d270141e48b",
   "metadata": {},
   "source": [
    "Some of the popular languages that Data Scientist use are:\n",
    "\n",
    "1.Python\n",
    "2.C++\n",
    "3.Java\n",
    "4.SQL\n",
    "5.R etc..\n"
   ]
  },
  {
   "cell_type": "markdown",
   "id": "2c9dfde6-15bd-4db5-8903-13d608343cee",
   "metadata": {},
   "source": [
    "Some of the commonly used libraries are:\n",
    "\n",
    "\n",
    "1.Tensorflow\n",
    "2.Numpy\n",
    "3.Scipy\n",
    "4.Pandas\n",
    "5.Matplotlib\n",
    "5.Keras\n",
    "6.Scikit learn\n",
    "7.Pytourch etc.."
   ]
  },
  {
   "cell_type": "markdown",
   "id": "4d68f545-7500-4fd6-a744-5b843f38b0b9",
   "metadata": {},
   "source": [
    "|Data Science tools|\n",
    "|---|\n",
    "|SAS|\n",
    "|Apache Hadoop|\n",
    "|Tensorflow|"
   ]
  },
  {
   "cell_type": "markdown",
   "id": "23d425b0-2a38-4254-876c-ceeed77a5568",
   "metadata": {},
   "source": [
    "####  Below are a few examples of evaluating arithmatic expressions in python"
   ]
  },
  {
   "cell_type": "code",
   "execution_count": 1,
   "id": "eaf76a07-5a6a-4238-85cb-3aa849f17c7d",
   "metadata": {},
   "outputs": [
    {
     "data": {
      "text/plain": [
       "17"
      ]
     },
     "execution_count": 1,
     "metadata": {},
     "output_type": "execute_result"
    }
   ],
   "source": [
    "# this is a common arithmatic example to multiply and then add integers\n",
    "\n",
    "(3*4)+5"
   ]
  },
  {
   "cell_type": "code",
   "execution_count": 2,
   "id": "5dfd4773-65b9-4b28-b236-b9183bc4c74b",
   "metadata": {},
   "outputs": [
    {
     "data": {
      "text/plain": [
       "3.3333333333333335"
      ]
     },
     "execution_count": 2,
     "metadata": {},
     "output_type": "execute_result"
    }
   ],
   "source": [
    "# This will convert 200 minuites into hours by dividing by 60\n",
    "\n",
    "200/60"
   ]
  },
  {
   "cell_type": "markdown",
   "id": "377f4cb0-e0bd-4b10-827c-6994b47df146",
   "metadata": {},
   "source": [
    "__Objectives__\n",
    "\n",
    "- List popular languages for data science\n",
    "- List popular libraries for data science\n",
    "- List well known data science tools\n",
    "- How to provide comments in the cell"
   ]
  },
  {
   "cell_type": "markdown",
   "id": "958434e9-aa0e-44a9-a99f-d19c24c0fef1",
   "metadata": {},
   "source": [
    "__Author__\n",
    " \n",
    " Preethesh kumar"
   ]
  }
 ],
 "metadata": {
  "kernelspec": {
   "display_name": "Python 3 (ipykernel)",
   "language": "python",
   "name": "python3"
  },
  "language_info": {
   "codemirror_mode": {
    "name": "ipython",
    "version": 3
   },
   "file_extension": ".py",
   "mimetype": "text/x-python",
   "name": "python",
   "nbconvert_exporter": "python",
   "pygments_lexer": "ipython3",
   "version": "3.12.1"
  }
 },
 "nbformat": 4,
 "nbformat_minor": 5
}
